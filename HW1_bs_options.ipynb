{
 "cells": [
  {
   "cell_type": "code",
   "execution_count": 1,
   "metadata": {},
   "outputs": [],
   "source": [
    "from math import exp, log, pi\n"
   ]
  },
  {
   "cell_type": "code",
   "execution_count": 2,
   "metadata": {},
   "outputs": [],
   "source": [
    "def norm_pdf(x):\n",
    "    \"\"\"\n",
    "    Standard normal probability density function\n",
    "    \"\"\"\n",
    "    return (1.0/((2*pi)**0.5))*exp(-0.5*x*x)"
   ]
  },
  {
   "cell_type": "code",
   "execution_count": 3,
   "metadata": {},
   "outputs": [],
   "source": [
    "def norm_cdf(x):\n",
    "    \"\"\"\n",
    "    An approximation to the cumulative distribution\n",
    "    function for the standard normal distribution:\n",
    "    N(x) = \\frac{1}{sqrt(2*\\pi)} \\int^x_{-\\infty} e^{-\\frac{1}{2}s^2} ds\n",
    "    \"\"\"\n",
    "    k = 1.0/(1.0+0.2316419*x)\n",
    "    k_sum = k * (0.319381530 + k * (-0.356563782 + \\\n",
    "        k * (1.781477937 + k * (-1.821255978 + 1.330274429 * k))))\n",
    "\n",
    "    if x >= 0.0:\n",
    "        return (1.0 - (1.0 / ((2 * pi)**0.5)) * exp(-0.5 * x * x) * k_sum)\n",
    "    else:\n",
    "        return 1.0 - norm_cdf(-x)"
   ]
  },
  {
   "cell_type": "code",
   "execution_count": 4,
   "metadata": {},
   "outputs": [],
   "source": [
    "def d_j(j, S, K, r, v, T):\n",
    "    \"\"\"\n",
    "    d_j = \\frac{log(\\frac{S}{K})+(r+(-1)^{j-1} \\frac{1}{2}v^2)T}{v sqrt(T)}\n",
    "    \"\"\"\n",
    "    return (log(S/K) + (r + ((-1)**(j-1))*0.5*v*v)*T)/(v*(T**0.5))"
   ]
  },
  {
   "cell_type": "code",
   "execution_count": 5,
   "metadata": {},
   "outputs": [],
   "source": [
    "def vanilla_call_price(S, K, r, v, T):\n",
    "    \"\"\"\n",
    "    Price of a European call option struck at K, with\n",
    "    spot S, constant rate r, constant vol v (over the\n",
    "    life of the option) and time to maturity T\n",
    "    \"\"\"\n",
    "    return S * norm_cdf(d_j(1, S, K, r, v, T)) - \\\n",
    "        K*exp(-r*T) * norm_cdf(d_j(2, S, K, r, v, T))"
   ]
  },
  {
   "cell_type": "code",
   "execution_count": 6,
   "metadata": {},
   "outputs": [],
   "source": [
    "def vanilla_put_price(S, K, r, v, T):\n",
    "    \"\"\"\n",
    "    Price of a European put option struck at K, with\n",
    "    spot S, constant rate r, constant vol v (over the\n",
    "    life of the option) and time to maturity T\n",
    "    \"\"\"\n",
    "    return -S * norm_cdf(-d_j(1, S, K, r, v, T)) + \\\n",
    "        K*exp(-r*T) * norm_cdf(-d_j(2, S, K, r, v, T))"
   ]
  },
  {
   "cell_type": "code",
   "execution_count": null,
   "metadata": {},
   "outputs": [],
   "source": []
  }
 ],
 "metadata": {
  "kernelspec": {
   "display_name": "Python 3",
   "language": "python",
   "name": "python3"
  },
  "language_info": {
   "codemirror_mode": {
    "name": "ipython",
    "version": 3
   },
   "file_extension": ".py",
   "mimetype": "text/x-python",
   "name": "python",
   "nbconvert_exporter": "python",
   "pygments_lexer": "ipython3",
   "version": "3.7.3"
  }
 },
 "nbformat": 4,
 "nbformat_minor": 2
}
